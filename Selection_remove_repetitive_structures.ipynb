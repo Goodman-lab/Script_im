{
 "cells": [
  {
   "cell_type": "code",
   "execution_count": 1,
   "metadata": {},
   "outputs": [
    {
     "name": "stdout",
     "output_type": "stream",
     "text": [
      "Populating the interactive namespace from numpy and matplotlib\n"
     ]
    }
   ],
   "source": [
    "%pylab inline\n",
    "import os\n",
    "import pandas as pd\n",
    "import numpy as np"
   ]
  },
  {
   "cell_type": "code",
   "execution_count": 2,
   "metadata": {},
   "outputs": [],
   "source": [
    "def selection(df):\n",
    "    label_R = df['label_dft'].tolist()\n",
    "    delG_R = df['delG'].tolist()\n",
    "    no_R = df['no'].tolist()\n",
    "    \n",
    "    label= label_R[0]\n",
    "    value=delG_R[0]\n",
    "\n",
    "    selected=[]\n",
    "    for i in range(0,len(label_R)):\n",
    "        if delG_R[i] > 9:\n",
    "            pass\n",
    "        elif label_R[i] != label:\n",
    "            selected.append(no_R[i])\n",
    "        elif delG_R[i] < delG_R[i-1]:\n",
    "            selected=selected[:-1]\n",
    "            selected.append(no_R[i])\n",
    "        label = label_R[i]\n",
    "        value = delG_R[i]\n",
    "    \n",
    "    return selected\n",
    "\n",
    "def compile_selection(filename):\n",
    "    result = pd.read_csv(filename)\n",
    "    #result.sort_values('delG', axis = 0, ascending = True, inplace = True)\n",
    "    result.sort_values('label_dft', axis = 0, ascending = True, inplace = True)\n",
    "    #result.sort_values('RS', axis = 0, ascending = True, inplace = True)\n",
    "    \n",
    "    adduct_R= result[result['RS']=='R']\n",
    "    adduct_S= result[result['RS']=='S']\n",
    "    \n",
    "    R_list=selection(adduct_R)\n",
    "    S_list=selection(adduct_S)\n",
    "    print('R: ',R_list, '  length: ',str(len(R_list)))\n",
    "    print('S: ',S_list,'  length: ',str(len(S_list)))\n",
    "    \n",
    "    return R_list, S_list\n",
    "\n",
    "def Remove(duplicate): \n",
    "    final_list = [] \n",
    "    for num in duplicate: \n",
    "        if num not in final_list: \n",
    "            final_list.append(num) \n",
    "    return final_list \n"
   ]
  },
  {
   "cell_type": "code",
   "execution_count": 3,
   "metadata": {},
   "outputs": [
    {
     "name": "stdout",
     "output_type": "stream",
     "text": [
      "R:  [1801, 1810, 139, 1805, 1809, 1806, 1242, 1802, 1807, 688, 574, 577, 1248]   length:  13\n",
      "S:  [705, 1815, 326, 611, 94, 1804, 1330, 1481, 1594, 1803, 1680, 1813]   length:  12\n"
     ]
    },
    {
     "data": {
      "text/plain": [
       "([1801, 1810, 139, 1805, 1809, 1806, 1242, 1802, 1807, 688, 574, 577, 1248],\n",
       " [705, 1815, 326, 611, 94, 1804, 1330, 1481, 1594, 1803, 1680, 1813])"
      ]
     },
     "execution_count": 3,
     "metadata": {},
     "output_type": "execute_result"
    }
   ],
   "source": [
    "compile_selection('C_Me_RMe_dft_r2.csv')"
   ]
  },
  {
   "cell_type": "code",
   "execution_count": null,
   "metadata": {},
   "outputs": [],
   "source": []
  },
  {
   "cell_type": "code",
   "execution_count": null,
   "metadata": {},
   "outputs": [],
   "source": []
  }
 ],
 "metadata": {
  "kernelspec": {
   "display_name": "Python 3",
   "language": "python",
   "name": "python3"
  },
  "language_info": {
   "codemirror_mode": {
    "name": "ipython",
    "version": 3
   },
   "file_extension": ".py",
   "mimetype": "text/x-python",
   "name": "python",
   "nbconvert_exporter": "python",
   "pygments_lexer": "ipython3",
   "version": "3.8.5"
  }
 },
 "nbformat": 4,
 "nbformat_minor": 4
}
